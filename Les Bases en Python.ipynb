{
 "cells": [
  {
   "cell_type": "markdown",
   "metadata": {},
   "source": [
    "# Notions de base"
   ]
  },
  {
   "cell_type": "markdown",
   "metadata": {},
   "source": [
    "## Les instructions"
   ]
  },
  {
   "cell_type": "code",
   "execution_count": 29,
   "metadata": {},
   "outputs": [
    {
     "name": "stdout",
     "output_type": "stream",
     "text": [
      "Hello world\n"
     ]
    }
   ],
   "source": [
    "print(\"Hello world\")"
   ]
  },
  {
   "cell_type": "code",
   "execution_count": 30,
   "metadata": {},
   "outputs": [
    {
     "data": {
      "text/plain": [
       "2"
      ]
     },
     "execution_count": 30,
     "metadata": {},
     "output_type": "execute_result"
    }
   ],
   "source": [
    "1 + 1"
   ]
  },
  {
   "cell_type": "markdown",
   "metadata": {},
   "source": [
    "## Les variables"
   ]
  },
  {
   "cell_type": "markdown",
   "metadata": {},
   "source": [
    "Tout est <font color='red'> __objet__ </font> en Python et tout objet a 3 caractéristiques:\n",
    "<ul>\n",
    "<li> identifiant (~ adresse en mémoire) </li>\n",
    "<li> type </li>\n",
    "<li> valeur </li>\n",
    "</ul>"
   ]
  },
  {
   "cell_type": "code",
   "execution_count": 31,
   "metadata": {},
   "outputs": [
    {
     "data": {
      "text/plain": [
       "93935976111328"
      ]
     },
     "execution_count": 31,
     "metadata": {},
     "output_type": "execute_result"
    }
   ],
   "source": [
    "# Identifiant\n",
    "id(1)"
   ]
  },
  {
   "cell_type": "code",
   "execution_count": 32,
   "metadata": {},
   "outputs": [
    {
     "data": {
      "text/plain": [
       "int"
      ]
     },
     "execution_count": 32,
     "metadata": {},
     "output_type": "execute_result"
    }
   ],
   "source": [
    "# Type\n",
    "type(1)"
   ]
  },
  {
   "cell_type": "code",
   "execution_count": 33,
   "metadata": {},
   "outputs": [
    {
     "data": {
      "text/plain": [
       "['__abs__',\n",
       " '__add__',\n",
       " '__and__',\n",
       " '__bool__',\n",
       " '__ceil__',\n",
       " '__class__',\n",
       " '__delattr__',\n",
       " '__dir__',\n",
       " '__divmod__',\n",
       " '__doc__',\n",
       " '__eq__',\n",
       " '__float__',\n",
       " '__floor__',\n",
       " '__floordiv__',\n",
       " '__format__',\n",
       " '__ge__',\n",
       " '__getattribute__',\n",
       " '__getnewargs__',\n",
       " '__gt__',\n",
       " '__hash__',\n",
       " '__index__',\n",
       " '__init__',\n",
       " '__init_subclass__',\n",
       " '__int__',\n",
       " '__invert__',\n",
       " '__le__',\n",
       " '__lshift__',\n",
       " '__lt__',\n",
       " '__mod__',\n",
       " '__mul__',\n",
       " '__ne__',\n",
       " '__neg__',\n",
       " '__new__',\n",
       " '__or__',\n",
       " '__pos__',\n",
       " '__pow__',\n",
       " '__radd__',\n",
       " '__rand__',\n",
       " '__rdivmod__',\n",
       " '__reduce__',\n",
       " '__reduce_ex__',\n",
       " '__repr__',\n",
       " '__rfloordiv__',\n",
       " '__rlshift__',\n",
       " '__rmod__',\n",
       " '__rmul__',\n",
       " '__ror__',\n",
       " '__round__',\n",
       " '__rpow__',\n",
       " '__rrshift__',\n",
       " '__rshift__',\n",
       " '__rsub__',\n",
       " '__rtruediv__',\n",
       " '__rxor__',\n",
       " '__setattr__',\n",
       " '__sizeof__',\n",
       " '__str__',\n",
       " '__sub__',\n",
       " '__subclasshook__',\n",
       " '__truediv__',\n",
       " '__trunc__',\n",
       " '__xor__',\n",
       " 'bit_length',\n",
       " 'conjugate',\n",
       " 'denominator',\n",
       " 'from_bytes',\n",
       " 'imag',\n",
       " 'numerator',\n",
       " 'real',\n",
       " 'to_bytes']"
      ]
     },
     "execution_count": 33,
     "metadata": {},
     "output_type": "execute_result"
    }
   ],
   "source": [
    "# Ensemble de fonctionnalités/méthodes de l'objet\n",
    "dir(1)"
   ]
  },
  {
   "cell_type": "markdown",
   "metadata": {},
   "source": [
    "## L'affectation"
   ]
  },
  {
   "cell_type": "markdown",
   "metadata": {},
   "source": [
    "affectation = lier un objet à une variable (~ référence)"
   ]
  },
  {
   "cell_type": "code",
   "execution_count": 34,
   "metadata": {},
   "outputs": [
    {
     "name": "stdout",
     "output_type": "stream",
     "text": [
      "93935976111328\n",
      "<class 'int'>\n"
     ]
    }
   ],
   "source": [
    "a = 1\n",
    "print(id(a))\n",
    "print(type(a))"
   ]
  },
  {
   "cell_type": "markdown",
   "metadata": {},
   "source": [
    "## Les types de base en Python"
   ]
  },
  {
   "cell_type": "markdown",
   "metadata": {},
   "source": [
    "### Les entiers"
   ]
  },
  {
   "cell_type": "markdown",
   "metadata": {},
   "source": [
    "Les entiers en Python sont <font color='red'> __immuables__ </font>! L'affectation d'un objet à une variable implique la création d'un nouvel objet !"
   ]
  },
  {
   "cell_type": "code",
   "execution_count": 35,
   "metadata": {},
   "outputs": [
    {
     "name": "stdout",
     "output_type": "stream",
     "text": [
      "93935976111360\n",
      "93935976111328\n"
     ]
    }
   ],
   "source": [
    "a = 2\n",
    "print(id(a))\n",
    "a = 1\n",
    "print(id(a))"
   ]
  },
  {
   "cell_type": "markdown",
   "metadata": {},
   "source": [
    "### Les chaînes de caractères"
   ]
  },
  {
   "cell_type": "markdown",
   "metadata": {},
   "source": [
    "Comme les entiers, les chaînes de caractères en Python sont également immuables"
   ]
  },
  {
   "cell_type": "code",
   "execution_count": 36,
   "metadata": {},
   "outputs": [
    {
     "name": "stdout",
     "output_type": "stream",
     "text": [
      "hello world\n"
     ]
    }
   ],
   "source": [
    "print(\"hello world\") "
   ]
  },
  {
   "cell_type": "code",
   "execution_count": 37,
   "metadata": {},
   "outputs": [
    {
     "name": "stdout",
     "output_type": "stream",
     "text": [
      "test\n",
      "test\n"
     ]
    }
   ],
   "source": [
    "print(\"test\\ntest\")"
   ]
  },
  {
   "cell_type": "code",
   "execution_count": 38,
   "metadata": {},
   "outputs": [
    {
     "name": "stdout",
     "output_type": "stream",
     "text": [
      "test \t test\n"
     ]
    }
   ],
   "source": [
    "print(\"test \\t test\")"
   ]
  },
  {
   "cell_type": "code",
   "execution_count": 39,
   "metadata": {},
   "outputs": [
    {
     "name": "stdout",
     "output_type": "stream",
     "text": [
      "139831327896496\n",
      "139831327895936\n"
     ]
    }
   ],
   "source": [
    "a = \"string1\"\n",
    "print(id(a))\n",
    "a = \"string2\"\n",
    "print(id(a))"
   ]
  },
  {
   "cell_type": "markdown",
   "metadata": {},
   "source": [
    "### Les nombres à virgule flottante"
   ]
  },
  {
   "cell_type": "markdown",
   "metadata": {},
   "source": [
    "Comme les entiers, les \"float\"s sont également des immuables en Python"
   ]
  },
  {
   "cell_type": "code",
   "execution_count": 40,
   "metadata": {},
   "outputs": [
    {
     "data": {
      "text/plain": [
       "float"
      ]
     },
     "execution_count": 40,
     "metadata": {},
     "output_type": "execute_result"
    }
   ],
   "source": [
    "u = 10.2\n",
    "type(u)"
   ]
  },
  {
   "cell_type": "markdown",
   "metadata": {},
   "source": [
    "### Les nombres complexes"
   ]
  },
  {
   "cell_type": "code",
   "execution_count": 41,
   "metadata": {},
   "outputs": [
    {
     "data": {
      "text/plain": [
       "complex"
      ]
     },
     "execution_count": 41,
     "metadata": {},
     "output_type": "execute_result"
    }
   ],
   "source": [
    "u = 5j + 1\n",
    "type(u)"
   ]
  },
  {
   "cell_type": "markdown",
   "metadata": {},
   "source": [
    "### Les booléens"
   ]
  },
  {
   "cell_type": "markdown",
   "metadata": {
    "collapsed": true
   },
   "source": [
    "Un objet booléen a deux valeurs possibles:\n",
    "<ul>\n",
    "<li> True (Vrai) </li>\n",
    "<li> False (Faux) </li>\n",
    "</ul>"
   ]
  },
  {
   "cell_type": "code",
   "execution_count": 42,
   "metadata": {},
   "outputs": [
    {
     "data": {
      "text/plain": [
       "True"
      ]
     },
     "execution_count": 42,
     "metadata": {},
     "output_type": "execute_result"
    }
   ],
   "source": [
    "False==0"
   ]
  },
  {
   "cell_type": "markdown",
   "metadata": {},
   "source": [
    "### Type à valeur unique: None"
   ]
  },
  {
   "cell_type": "code",
   "execution_count": 43,
   "metadata": {},
   "outputs": [
    {
     "name": "stdout",
     "output_type": "stream",
     "text": [
      "None\n"
     ]
    }
   ],
   "source": [
    "a = None\n",
    "print(a)"
   ]
  },
  {
   "cell_type": "markdown",
   "metadata": {
    "collapsed": true
   },
   "source": [
    "## Les opérateurs en Python"
   ]
  },
  {
   "cell_type": "markdown",
   "metadata": {
    "collapsed": true
   },
   "source": [
    "Liste de quelques opérateurs: \n",
    "<ul> \n",
    "<li> <font color='red'> __+__ </font> &nbsp;&nbsp;&nbsp; addition </li>\n",
    "<li> <font color='red'> __-__ </font> &nbsp;&nbsp;&nbsp;&nbsp; soustraction </li>\n",
    "<li> <font color='red'> __*__ </font> &nbsp;&nbsp;&nbsp;&nbsp; multiplication </li>\n",
    "<li> <font color='red'> __/__ </font> &nbsp;&nbsp;&nbsp;&nbsp; division </li>\n",
    "<li> <font color='red'> __//__ </font> &nbsp;&nbsp;&nbsp; division entière </li>\n",
    "<li> <font color='red'> __%__ </font> &nbsp;&nbsp; modulo </li> \n",
    "<li> <font color='red'>__        ==    &nbsp;&nbsp;    !=   &nbsp;&nbsp;&nbsp;&nbsp;     <    &nbsp;&nbsp;&nbsp;&nbsp;     >    &nbsp;&nbsp;&nbsp;&nbsp;     <=    &nbsp;&nbsp;&nbsp;&nbsp;     >=    &nbsp;&nbsp;&nbsp;&nbsp;   is  &nbsp;&nbsp;&nbsp;&nbsp; __</font>  opérateurs de comparaison   </li>\n",
    "</ul>"
   ]
  },
  {
   "cell_type": "code",
   "execution_count": 1,
   "metadata": {},
   "outputs": [
    {
     "data": {
      "text/plain": [
       "False"
      ]
     },
     "execution_count": 1,
     "metadata": {},
     "output_type": "execute_result"
    }
   ],
   "source": [
    "1 != 1"
   ]
  },
  {
   "cell_type": "code",
   "execution_count": 2,
   "metadata": {},
   "outputs": [
    {
     "data": {
      "text/plain": [
       "'sd'"
      ]
     },
     "execution_count": 2,
     "metadata": {},
     "output_type": "execute_result"
    }
   ],
   "source": [
    "\"s\" + \"d\""
   ]
  },
  {
   "cell_type": "code",
   "execution_count": 46,
   "metadata": {},
   "outputs": [
    {
     "data": {
      "text/plain": [
       "False"
      ]
     },
     "execution_count": 46,
     "metadata": {},
     "output_type": "execute_result"
    }
   ],
   "source": [
    "1 == 2"
   ]
  },
  {
   "cell_type": "code",
   "execution_count": 47,
   "metadata": {},
   "outputs": [
    {
     "data": {
      "text/plain": [
       "False"
      ]
     },
     "execution_count": 47,
     "metadata": {},
     "output_type": "execute_result"
    }
   ],
   "source": [
    "\"s\" <= \"d\""
   ]
  },
  {
   "cell_type": "code",
   "execution_count": 3,
   "metadata": {},
   "outputs": [
    {
     "name": "stdout",
     "output_type": "stream",
     "text": [
      "4.666666666666667\n",
      "4\n",
      "2\n"
     ]
    }
   ],
   "source": [
    "print(14 / 3)\n",
    "print(14 // 3)\n",
    "print(14 % 3)"
   ]
  },
  {
   "cell_type": "markdown",
   "metadata": {},
   "source": [
    "Python est un langage <font color='red'> __typé dynamique__ </font>\n",
    "<ul>\n",
    "<li> <font color='red'> __typé__ </font> car ne supporte pas de conversion implicite de type de variable (pour réaliser une opération d'addition par exemple) </li>\n",
    "<li> <font color='red'> __dynamique__ </font> car le type d'une variable peut changer d'une affectation à une autre </li>\n",
    "<ul>"
   ]
  },
  {
   "cell_type": "code",
   "execution_count": 4,
   "metadata": {},
   "outputs": [
    {
     "ename": "TypeError",
     "evalue": "unsupported operand type(s) for +: 'int' and 'str'",
     "output_type": "error",
     "traceback": [
      "\u001b[0;31m---------------------------------------------------------------------------\u001b[0m",
      "\u001b[0;31mTypeError\u001b[0m                                 Traceback (most recent call last)",
      "\u001b[0;32m<ipython-input-4-861dce55bf05>\u001b[0m in \u001b[0;36m<module>\u001b[0;34m\u001b[0m\n\u001b[0;32m----> 1\u001b[0;31m \u001b[0;36m1\u001b[0m \u001b[0;34m+\u001b[0m \u001b[0;34m\"2\"\u001b[0m \u001b[0;31m#possible en Javascript mais pas en Python\u001b[0m\u001b[0;34m\u001b[0m\u001b[0;34m\u001b[0m\u001b[0m\n\u001b[0m",
      "\u001b[0;31mTypeError\u001b[0m: unsupported operand type(s) for +: 'int' and 'str'"
     ]
    }
   ],
   "source": [
    "1 + \"2\" #possible en Javascript mais pas en Python"
   ]
  },
  {
   "cell_type": "code",
   "execution_count": 50,
   "metadata": {},
   "outputs": [
    {
     "data": {
      "text/plain": [
       "3"
      ]
     },
     "execution_count": 50,
     "metadata": {},
     "output_type": "execute_result"
    }
   ],
   "source": [
    "# Une conversion explicite est par contre possible en Python\n",
    "1 + int(\"2\")"
   ]
  },
  {
   "cell_type": "code",
   "execution_count": 51,
   "metadata": {},
   "outputs": [
    {
     "name": "stdout",
     "output_type": "stream",
     "text": [
      "1\n",
      "s\n"
     ]
    }
   ],
   "source": [
    "a = 1\n",
    "print(a)\n",
    "a = \"s\"\n",
    "print(a)\n",
    "\n",
    "# En java le type de la variable est déclaré et ne change plus\n",
    "# int a:\n",
    "# a = 6;"
   ]
  },
  {
   "cell_type": "markdown",
   "metadata": {
    "collapsed": true
   },
   "source": [
    "## Les structures de données en Python"
   ]
  },
  {
   "cell_type": "markdown",
   "metadata": {},
   "source": [
    "### Les chaînes de caractères"
   ]
  },
  {
   "cell_type": "markdown",
   "metadata": {},
   "source": [
    "Les chaînes de caractères sont des <font color='red'>  __séquences__ </font> (liste d'éléments ordonnés) de caractères. Les séquences sont indexées et on peut accéder à chaque élément par son indice / accéder à chaque sous-séquence par ses indices de début et de fin (Slicing)"
   ]
  },
  {
   "cell_type": "code",
   "execution_count": 52,
   "metadata": {
    "collapsed": true
   },
   "outputs": [],
   "source": [
    "s = \"test\""
   ]
  },
  {
   "cell_type": "code",
   "execution_count": 53,
   "metadata": {},
   "outputs": [
    {
     "name": "stdout",
     "output_type": "stream",
     "text": [
      "s\n"
     ]
    }
   ],
   "source": [
    "print(s[2])"
   ]
  },
  {
   "cell_type": "code",
   "execution_count": 54,
   "metadata": {},
   "outputs": [
    {
     "name": "stdout",
     "output_type": "stream",
     "text": [
      "te\n"
     ]
    }
   ],
   "source": [
    "print(s[0:2])"
   ]
  },
  {
   "cell_type": "markdown",
   "metadata": {},
   "source": [
    "### Les listes"
   ]
  },
  {
   "cell_type": "markdown",
   "metadata": {
    "collapsed": true
   },
   "source": [
    "Les listes sont des <font color='red'>  __séquences__ </font> (liste ordonnées) d'éléments de type hétérogène; A la différence d'une chaîne de caractère qui est une séqeuence \"immutable\", une liste est une <font color='red'>  __séquence modifiable (\"mutable\")__ </font>"
   ]
  },
  {
   "cell_type": "code",
   "execution_count": 55,
   "metadata": {
    "collapsed": true
   },
   "outputs": [],
   "source": [
    "l = ['a', 'b', True, 1.2]"
   ]
  },
  {
   "cell_type": "code",
   "execution_count": 56,
   "metadata": {
    "collapsed": true
   },
   "outputs": [],
   "source": [
    "l.append(2)"
   ]
  },
  {
   "cell_type": "code",
   "execution_count": 57,
   "metadata": {},
   "outputs": [
    {
     "name": "stdout",
     "output_type": "stream",
     "text": [
      "['a', 'b', True, 1.2, 2]\n"
     ]
    }
   ],
   "source": [
    "print(l)"
   ]
  },
  {
   "cell_type": "code",
   "execution_count": 58,
   "metadata": {},
   "outputs": [
    {
     "name": "stdout",
     "output_type": "stream",
     "text": [
      "139831327919752\n",
      "139831327919752\n"
     ]
    }
   ],
   "source": [
    "l = ['a', 'b', True, 1.2]\n",
    "print(id(l))\n",
    "l.append(2)\n",
    "print(id(l))"
   ]
  },
  {
   "cell_type": "code",
   "execution_count": 59,
   "metadata": {},
   "outputs": [
    {
     "name": "stdout",
     "output_type": "stream",
     "text": [
      "['a', 'b', True, 2]\n"
     ]
    }
   ],
   "source": [
    "l.pop(-2)\n",
    "print(l)"
   ]
  },
  {
   "cell_type": "markdown",
   "metadata": {},
   "source": [
    "### Les tuples"
   ]
  },
  {
   "cell_type": "markdown",
   "metadata": {},
   "source": [
    "Un tuple est une liste qui ne peut pas être modifiée <font color='red'>  __(\"immutable\")__ </font>"
   ]
  },
  {
   "cell_type": "code",
   "execution_count": 60,
   "metadata": {},
   "outputs": [
    {
     "data": {
      "text/plain": [
       "('a', 2)"
      ]
     },
     "execution_count": 60,
     "metadata": {},
     "output_type": "execute_result"
    }
   ],
   "source": [
    "(\"a\", 2)"
   ]
  },
  {
   "cell_type": "markdown",
   "metadata": {
    "collapsed": true
   },
   "source": [
    "### Les Sets"
   ]
  },
  {
   "cell_type": "markdown",
   "metadata": {},
   "source": [
    "Un Set en Python est une collection d'éléments <font color='red'>  __de types différents, non ordonnés et uniques et immutables__ </font>"
   ]
  },
  {
   "cell_type": "code",
   "execution_count": 61,
   "metadata": {},
   "outputs": [
    {
     "data": {
      "text/plain": [
       "{'caractères', 2, 4, 7}"
      ]
     },
     "execution_count": 61,
     "metadata": {},
     "output_type": "execute_result"
    }
   ],
   "source": [
    "set([2, 4, 7, 7, \"caractères\"])"
   ]
  },
  {
   "cell_type": "code",
   "execution_count": 62,
   "metadata": {},
   "outputs": [
    {
     "ename": "TypeError",
     "evalue": "unhashable type: 'list'",
     "output_type": "error",
     "traceback": [
      "\u001b[0;31m---------------------------------------------------------------------------\u001b[0m",
      "\u001b[0;31mTypeError\u001b[0m                                 Traceback (most recent call last)",
      "\u001b[0;32m<ipython-input-62-157918b10167>\u001b[0m in \u001b[0;36m<module>\u001b[0;34m()\u001b[0m\n\u001b[0;32m----> 1\u001b[0;31m \u001b[0mset\u001b[0m\u001b[0;34m(\u001b[0m\u001b[0;34m[\u001b[0m\u001b[0;36m1\u001b[0m\u001b[0;34m,\u001b[0m \u001b[0;34m[\u001b[0m\u001b[0;36m1\u001b[0m\u001b[0;34m,\u001b[0m \u001b[0;36m2\u001b[0m\u001b[0;34m]\u001b[0m\u001b[0;34m]\u001b[0m\u001b[0;34m)\u001b[0m\u001b[0;34m\u001b[0m\u001b[0m\n\u001b[0m",
      "\u001b[0;31mTypeError\u001b[0m: unhashable type: 'list'"
     ]
    }
   ],
   "source": [
    "set([1, [1, 2]])"
   ]
  },
  {
   "cell_type": "markdown",
   "metadata": {},
   "source": [
    "### Les Mappings ou dictionnaires"
   ]
  },
  {
   "cell_type": "markdown",
   "metadata": {
    "collapsed": true
   },
   "source": [
    "Un dictionnaire est une \"liste\" d'éléments utilisant <font color='red'>  __les clés__ </font> (qui peuvent être non atomiques) pour y accéder au lieu des indices. Un dictionnaire peut être modifié <font color='red'>  __(\"mutable\")__ </font>"
   ]
  },
  {
   "cell_type": "code",
   "execution_count": 63,
   "metadata": {
    "collapsed": true
   },
   "outputs": [],
   "source": [
    "dic = {'nom' : 'mehdi', 'prenom': \"sakji\"}"
   ]
  },
  {
   "cell_type": "code",
   "execution_count": 64,
   "metadata": {},
   "outputs": [
    {
     "data": {
      "text/plain": [
       "'mehdi'"
      ]
     },
     "execution_count": 64,
     "metadata": {},
     "output_type": "execute_result"
    }
   ],
   "source": [
    "dic['nom']"
   ]
  },
  {
   "cell_type": "code",
   "execution_count": 65,
   "metadata": {},
   "outputs": [
    {
     "data": {
      "text/plain": [
       "dict_keys(['nom', 'prenom'])"
      ]
     },
     "execution_count": 65,
     "metadata": {},
     "output_type": "execute_result"
    }
   ],
   "source": [
    "dic.keys()"
   ]
  },
  {
   "cell_type": "code",
   "execution_count": 66,
   "metadata": {},
   "outputs": [
    {
     "name": "stdout",
     "output_type": "stream",
     "text": [
      "139831319020312\n",
      "139831319020312\n",
      "{'nom': 'mehdi', 'prenom': 'sakji', 'mail': 'mehdi.sakji@davidson.fr'}\n"
     ]
    }
   ],
   "source": [
    "print(id(dic))\n",
    "dic['mail'] = 'mehdi.sakji@davidson.fr'\n",
    "print(id(dic))\n",
    "print(dic)"
   ]
  },
  {
   "cell_type": "markdown",
   "metadata": {},
   "source": [
    "## Les structures conditionnelles"
   ]
  },
  {
   "cell_type": "markdown",
   "metadata": {},
   "source": [
    "Les structures conditionnelles servent à:\n",
    "<ul>\n",
    "<li> Exécuter un traitement / instruction uniquement si une condition est remplie </li>\n",
    "<li> Porgrammer un scénario de traitements à exécuter en fonction de différentes conditions </li>\n",
    "</ul>\n",
    "<br/>\n",
    "3 Mots clés sont à retenir:\n",
    "<ul> \n",
    "<li> <font color='red'> if </font> </li>\n",
    "<li> <font color='red'> elif </font> </li>\n",
    "<li> <font color='red'> else </font> </li>\n",
    "</ul> "
   ]
  },
  {
   "cell_type": "markdown",
   "metadata": {},
   "source": [
    "##### Exemple de division par zéro"
   ]
  },
  {
   "cell_type": "code",
   "execution_count": 67,
   "metadata": {},
   "outputs": [
    {
     "name": "stdout",
     "output_type": "stream",
     "text": [
      "3.5\n"
     ]
    }
   ],
   "source": [
    "a = 7\n",
    "b = 2\n",
    "if b != 0:\n",
    "    # Exécuter le traitement qui suit uniquement si b est différents de zéro\n",
    "    r = a/b\n",
    "    print(r)"
   ]
  },
  {
   "cell_type": "code",
   "execution_count": 68,
   "metadata": {
    "collapsed": true
   },
   "outputs": [],
   "source": [
    "a = 7\n",
    "b = 0\n",
    "if b != 0:\n",
    "    # Exécuter le traitement qui suit uniquement si b est différents de zéro\n",
    "    r = a/b\n",
    "    print(r)"
   ]
  },
  {
   "cell_type": "code",
   "execution_count": 69,
   "metadata": {},
   "outputs": [
    {
     "name": "stdout",
     "output_type": "stream",
     "text": [
      "3.5\n"
     ]
    }
   ],
   "source": [
    "a = 7\n",
    "b = 2\n",
    "if b != 0:\n",
    "    # Exécuter le traitement qui suit uniquement si b est différents de zéro\n",
    "    r = a/b\n",
    "    print(r)\n",
    "else:\n",
    "    # Traitement alternatif à exécuter si condition pas remplie\n",
    "    print(\"Division par 0 impossible\")"
   ]
  },
  {
   "cell_type": "code",
   "execution_count": 70,
   "metadata": {},
   "outputs": [
    {
     "name": "stdout",
     "output_type": "stream",
     "text": [
      "Division par 0 impossible\n"
     ]
    }
   ],
   "source": [
    "a = 7\n",
    "b = 0\n",
    "if b != 0:\n",
    "    # Exécuter le traitement qui suit uniquement si b est différents de zéro\n",
    "    r = a/b\n",
    "    print(r)\n",
    "else:\n",
    "    # Traitement alternatif à exécuter si condition pas remplie\n",
    "    print(\"Division par 0 impossible\")"
   ]
  },
  {
   "cell_type": "code",
   "execution_count": 71,
   "metadata": {},
   "outputs": [
    {
     "name": "stdout",
     "output_type": "stream",
     "text": [
      "Jeune Adulte\n",
      "72\n"
     ]
    }
   ],
   "source": [
    "age = 24\n",
    "# Exécuter un traitement pour chaque condition\n",
    "if age>=0 and age<=12:\n",
    "    print(\"enfant\")\n",
    "    print(age*1)\n",
    "elif age>=13 and age<=19:\n",
    "    print(\"Adolescent\")\n",
    "    print(age*2)\n",
    "elif age>=20 and age<=30:\n",
    "    print(\"Jeune Adulte\")\n",
    "    print(age*3)\n",
    "elif age>=30 and age<=70:\n",
    "    print(\"Adulte\")\n",
    "    print(age*4)\n",
    "elif age>=70 and age<=150:\n",
    "    print(age*5)\n",
    "    print(\"Personne âgée\")\n",
    "else:\n",
    "    print(\"Erreur\")"
   ]
  },
  {
   "cell_type": "markdown",
   "metadata": {},
   "source": [
    "## Les boucles itératives"
   ]
  },
  {
   "cell_type": "markdown",
   "metadata": {},
   "source": [
    "Les boucles itératives servent à exécuter un même traitement plusieurs fois à la suite (traitement itératif)\n",
    "Deux manière de faire sont les suivantes\n",
    "\n",
    "<ul>\n",
    "<li> Exécuter un même traitement un nombre défini de fois --> Utiliser la boucle <font color='red'><b> for </b></font> </li>\n",
    "<li> Exécuter un même traitement un nombre indéfini de fois tant qu'une condition est vérifiée --> Utiliser la boucle <font color='red'><b> while </b></font> </li>\n",
    "</ul>"
   ]
  },
  {
   "cell_type": "markdown",
   "metadata": {},
   "source": [
    "### La boucle <font color='red'><b> for </b></font>"
   ]
  },
  {
   "cell_type": "code",
   "execution_count": 72,
   "metadata": {},
   "outputs": [
    {
     "name": "stdout",
     "output_type": "stream",
     "text": [
      "itération 0\n",
      "le compteur au carré est 0\n",
      "Calcul OK\n",
      "itération 1\n",
      "le compteur au carré est 1\n",
      "Calcul OK\n",
      "itération 2\n",
      "le compteur au carré est 4\n",
      "Calcul OK\n",
      "itération 3\n",
      "le compteur au carré est 9\n",
      "Calcul OK\n",
      "itération 4\n",
      "le compteur au carré est 16\n",
      "Calcul OK\n",
      "itération 5\n",
      "le compteur au carré est 25\n",
      "Calcul OK\n",
      "itération 6\n",
      "le compteur au carré est 36\n",
      "Calcul OK\n",
      "itération 7\n",
      "le compteur au carré est 49\n",
      "Calcul OK\n",
      "itération 8\n",
      "le compteur au carré est 64\n",
      "Calcul OK\n",
      "itération 9\n",
      "le compteur au carré est 81\n",
      "Calcul OK\n"
     ]
    }
   ],
   "source": [
    "for i in range(10):\n",
    "    # Répéter 10 fois le même traitement ! Attention, le compteur démarre de 0 et s'arrête à 9\n",
    "    # En général, range(N) = [0, 1, ..., N-1]\n",
    "    print(\"itération {}\".format(i))\n",
    "    print(\"le compteur au carré est {}\".format(i**2))\n",
    "    print(\"Calcul OK\")"
   ]
  },
  {
   "cell_type": "code",
   "execution_count": 73,
   "metadata": {},
   "outputs": [
    {
     "name": "stdout",
     "output_type": "stream",
     "text": [
      "itération 0\n",
      "le compteur au carré est 0\n",
      "Calcul OK\n",
      "itération 2\n",
      "le compteur au carré est 4\n",
      "Calcul OK\n",
      "itération 4\n",
      "le compteur au carré est 16\n",
      "Calcul OK\n",
      "itération 6\n",
      "le compteur au carré est 36\n",
      "Calcul OK\n",
      "itération 8\n",
      "le compteur au carré est 64\n",
      "Calcul OK\n"
     ]
    }
   ],
   "source": [
    "for i in range(10):\n",
    "    # Répéter 10 fois le même traitement ! Attention, le compteur démarre de 0 et s'arrête à 9\n",
    "    # En général, range(N) = [0, 1, ..., N-1]\n",
    "    if i % 2 == 0:\n",
    "        print(\"itération {}\".format(i))\n",
    "        print(\"le compteur au carré est {}\".format(i**2))\n",
    "        print(\"Calcul OK\")"
   ]
  },
  {
   "cell_type": "markdown",
   "metadata": {},
   "source": [
    "En python, on peut aussi utiliser la boucle <font color='red'><b> for </b></font> de la manière suivante"
   ]
  },
  {
   "cell_type": "code",
   "execution_count": 74,
   "metadata": {},
   "outputs": [
    {
     "name": "stdout",
     "output_type": "stream",
     "text": [
      "[144, 25, 36, 64, 81]\n"
     ]
    }
   ],
   "source": [
    "l = [12, 5, 6, 8, 9]\n",
    "# Construire une liste ordonnée des carrés de ces éléments\n",
    "l_carree = [item**2 for item in l]\n",
    "print(l_carree)"
   ]
  },
  {
   "cell_type": "code",
   "execution_count": 75,
   "metadata": {},
   "outputs": [
    {
     "name": "stdout",
     "output_type": "stream",
     "text": [
      "[144, 25, 36, 64, 81]\n"
     ]
    }
   ],
   "source": [
    "l = [12, 5, 6, \"intru\", 8, 9]\n",
    "# Construire une liste ordonnée des carrés de ces éléments si éléments est un nombre\n",
    "l_carree = [item**2 for item in l if isinstance(item ,(int, float))]\n",
    "print(l_carree)"
   ]
  },
  {
   "cell_type": "code",
   "execution_count": 76,
   "metadata": {},
   "outputs": [
    {
     "name": "stdout",
     "output_type": "stream",
     "text": [
      "[144, 25, 36, None, 64, 81]\n"
     ]
    }
   ],
   "source": [
    "l = [12, 5, 6, \"intru\", 8, 9]\n",
    "# Construire une liste ordonnée des carrés de ces éléments si éléments est un nombre\n",
    "l_carree = [item**2 if isinstance(item ,(int, float)) else None for item in l]\n",
    "print(l_carree)"
   ]
  },
  {
   "cell_type": "markdown",
   "metadata": {},
   "source": [
    "### La boucle <font color='red'><b> while </b></font>"
   ]
  },
  {
   "cell_type": "code",
   "execution_count": 78,
   "metadata": {},
   "outputs": [
    {
     "name": "stdout",
     "output_type": "stream",
     "text": [
      "La somme maximale 1175 est atteinte pour l'entier 50\n"
     ]
    }
   ],
   "source": [
    "# Additionner les entiers consécutifs en commençant par 1 tant que leur somme ne dépasse 1200\n",
    "somme = 0\n",
    "i = 1\n",
    "while somme<=1200:\n",
    "    somme += i\n",
    "    i += 1\n",
    "print(\"La somme maximale {} est atteinte pour l'entier {}\".format(somme - i, i))"
   ]
  }
 ],
 "metadata": {
  "kernelspec": {
   "display_name": "Python 3",
   "language": "python",
   "name": "python3"
  },
  "language_info": {
   "codemirror_mode": {
    "name": "ipython",
    "version": 3
   },
   "file_extension": ".py",
   "mimetype": "text/x-python",
   "name": "python",
   "nbconvert_exporter": "python",
   "pygments_lexer": "ipython3",
   "version": "3.7.1"
  }
 },
 "nbformat": 4,
 "nbformat_minor": 2
}
