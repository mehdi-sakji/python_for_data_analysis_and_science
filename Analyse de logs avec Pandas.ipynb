{
 "cells": [
  {
   "cell_type": "markdown",
   "metadata": {
    "collapsed": true
   },
   "source": [
    "# Analyse de Logs avec Pandas"
   ]
  },
  {
   "cell_type": "markdown",
   "metadata": {
    "collapsed": true
   },
   "source": [
    "## Import de librairies"
   ]
  },
  {
   "cell_type": "code",
   "execution_count": 1,
   "metadata": {},
   "outputs": [
    {
     "name": "stderr",
     "output_type": "stream",
     "text": [
      "/home/bigdatalover/anaconda3/lib/python3.7/site-packages/requests/__init__.py:91: RequestsDependencyWarning: urllib3 (1.24.1) or chardet (2.3.0) doesn't match a supported version!\n",
      "  RequestsDependencyWarning)\n"
     ]
    }
   ],
   "source": [
    "import elasticsearch\n",
    "from elasticsearch import helpers, TransportError\n",
    "import pandas as pd"
   ]
  },
  {
   "cell_type": "markdown",
   "metadata": {
    "collapsed": true
   },
   "source": [
    "## Analyse de Logs"
   ]
  },
  {
   "cell_type": "markdown",
   "metadata": {
    "collapsed": true
   },
   "source": [
    "On se connecte à Elasticsearch pour y récupérer les Logs qui ont été préalablement parsés et structurés via le Notebook <b> Parsing de Logs avec Python </b> ..."
   ]
  },
  {
   "cell_type": "code",
   "execution_count": 2,
   "metadata": {},
   "outputs": [],
   "source": [
    "ES_CLIENT = elasticsearch.Elasticsearch(\"localhost:9200\", timeout=10000)"
   ]
  },
  {
   "cell_type": "code",
   "execution_count": 3,
   "metadata": {},
   "outputs": [
    {
     "data": {
      "text/plain": [
       "10000"
      ]
     },
     "execution_count": 3,
     "metadata": {},
     "output_type": "execute_result"
    }
   ],
   "source": [
    "len(ES_CLIENT.search(index=\"logs\", size=10000)[\"hits\"][\"hits\"])"
   ]
  },
  {
   "cell_type": "markdown",
   "metadata": {
    "collapsed": true
   },
   "source": [
    "La fonction ci-dessous permet de charger des données depuis Elasticsearch correspondant à un nombre de Logs possiblement supérieur à 10000 (car un simple appel à  <b> search </b> peut au max charger 10000 Logs)"
   ]
  },
  {
   "cell_type": "code",
   "execution_count": 4,
   "metadata": {},
   "outputs": [],
   "source": [
    "def es_load_long(es_client, index, body=None, size=10000, sort=None):\n",
    "    \"\"\"\n",
    "        Loads more than 10000 entries from  Elasticsearch matching a query\n",
    "        and using scrolling technique\n",
    "    \"\"\"\n",
    "\n",
    "    try:\n",
    "        results = es_client.search(\n",
    "            index=index, scroll=\"2m\", body=body, size=size, sort=sort)\n",
    "        scroll_id = results[\"_scroll_id\"]\n",
    "        scroll_size = results[\"hits\"][\"total\"]\n",
    "        q_results = results[\"hits\"][\"hits\"]\n",
    "        while scroll_size>0:\n",
    "            results = es_client.scroll(scroll_id=scroll_id, scroll=\"2m\")\n",
    "            scroll_id = results[\"_scroll_id\"]\n",
    "            scroll_size = len(results[\"hits\"][\"hits\"])\n",
    "            q_results += results[\"hits\"][\"hits\"]\n",
    "        return q_results\n",
    "    except TransportError as transport_error:\n",
    "        raise transport_error"
   ]
  },
  {
   "cell_type": "markdown",
   "metadata": {},
   "source": [
    "Voilà le nombre de Logs qui ont été chargés grâce à cette fonction.  Le paramètre <b> \"logs\" </b> correspond à l'index Elasticsearch (équivalent par e.g. table SQL) où sont stockés les Logs."
   ]
  },
  {
   "cell_type": "code",
   "execution_count": 5,
   "metadata": {},
   "outputs": [
    {
     "data": {
      "text/plain": [
       "26311"
      ]
     },
     "execution_count": 5,
     "metadata": {},
     "output_type": "execute_result"
    }
   ],
   "source": [
    "len(es_load_long(ES_CLIENT, \"logs\"))"
   ]
  },
  {
   "cell_type": "markdown",
   "metadata": {
    "collapsed": true
   },
   "source": [
    "On charge tous les Logs dans une variable <b> data </b>"
   ]
  },
  {
   "cell_type": "code",
   "execution_count": 6,
   "metadata": {},
   "outputs": [],
   "source": [
    "data = es_load_long(ES_CLIENT, \"logs\")"
   ]
  },
  {
   "cell_type": "markdown",
   "metadata": {
    "collapsed": true
   },
   "source": [
    "<b> data </b> est une liste de dictionnaires, on la transforme en un <b> Pandas DataFrame </b>"
   ]
  },
  {
   "cell_type": "code",
   "execution_count": 7,
   "metadata": {},
   "outputs": [],
   "source": [
    "logs_dataframe = pd.DataFrame([item[\"_source\"] for item in data])"
   ]
  },
  {
   "cell_type": "markdown",
   "metadata": {},
   "source": [
    "La méthode <b> DataFrame.head(n) </b> où <b> n </b> est un paramètre permet d'afficher les <b> n </b> premières lignes d'un objet DataFrame."
   ]
  },
  {
   "cell_type": "code",
   "execution_count": 8,
   "metadata": {},
   "outputs": [
    {
     "data": {
      "text/html": [
       "<div>\n",
       "<style scoped>\n",
       "    .dataframe tbody tr th:only-of-type {\n",
       "        vertical-align: middle;\n",
       "    }\n",
       "\n",
       "    .dataframe tbody tr th {\n",
       "        vertical-align: top;\n",
       "    }\n",
       "\n",
       "    .dataframe thead th {\n",
       "        text-align: right;\n",
       "    }\n",
       "</style>\n",
       "<table border=\"1\" class=\"dataframe\">\n",
       "  <thead>\n",
       "    <tr style=\"text-align: right;\">\n",
       "      <th></th>\n",
       "      <th>Date</th>\n",
       "      <th>IP</th>\n",
       "      <th>Request</th>\n",
       "      <th>Status</th>\n",
       "      <th>Url</th>\n",
       "    </tr>\n",
       "  </thead>\n",
       "  <tbody>\n",
       "    <tr>\n",
       "      <th>0</th>\n",
       "      <td>2015-12-01T00:00:00</td>\n",
       "      <td>90.154.66.233</td>\n",
       "      <td>POST</td>\n",
       "      <td>200.0</td>\n",
       "      <td>/administrator/index.php</td>\n",
       "    </tr>\n",
       "    <tr>\n",
       "      <th>1</th>\n",
       "      <td>2015-12-01T00:00:00</td>\n",
       "      <td>46.72.213.133</td>\n",
       "      <td>GET</td>\n",
       "      <td>200.0</td>\n",
       "      <td>/administrator/</td>\n",
       "    </tr>\n",
       "    <tr>\n",
       "      <th>2</th>\n",
       "      <td>2015-12-01T00:00:00</td>\n",
       "      <td>178.204.119.130</td>\n",
       "      <td>POST</td>\n",
       "      <td>200.0</td>\n",
       "      <td>/administrator/index.php</td>\n",
       "    </tr>\n",
       "    <tr>\n",
       "      <th>3</th>\n",
       "      <td>2015-12-01T00:00:00</td>\n",
       "      <td>178.35.0.41</td>\n",
       "      <td>POST</td>\n",
       "      <td>200.0</td>\n",
       "      <td>/administrator/index.php</td>\n",
       "    </tr>\n",
       "    <tr>\n",
       "      <th>4</th>\n",
       "      <td>2015-12-01T00:00:00</td>\n",
       "      <td>92.252.165.97</td>\n",
       "      <td>GET</td>\n",
       "      <td>200.0</td>\n",
       "      <td>/administrator/</td>\n",
       "    </tr>\n",
       "    <tr>\n",
       "      <th>5</th>\n",
       "      <td>2015-12-01T00:00:00</td>\n",
       "      <td>92.252.165.97</td>\n",
       "      <td>POST</td>\n",
       "      <td>200.0</td>\n",
       "      <td>/administrator/index.php</td>\n",
       "    </tr>\n",
       "    <tr>\n",
       "      <th>6</th>\n",
       "      <td>2015-12-01T00:00:00</td>\n",
       "      <td>83.219.151.232</td>\n",
       "      <td>GET</td>\n",
       "      <td>200.0</td>\n",
       "      <td>/administrator/</td>\n",
       "    </tr>\n",
       "    <tr>\n",
       "      <th>7</th>\n",
       "      <td>2015-12-01T00:00:00</td>\n",
       "      <td>213.24.134.32</td>\n",
       "      <td>POST</td>\n",
       "      <td>200.0</td>\n",
       "      <td>/administrator/index.php</td>\n",
       "    </tr>\n",
       "    <tr>\n",
       "      <th>8</th>\n",
       "      <td>2015-12-01T00:00:00</td>\n",
       "      <td>191.182.199.16</td>\n",
       "      <td>GET</td>\n",
       "      <td>200.0</td>\n",
       "      <td>/</td>\n",
       "    </tr>\n",
       "    <tr>\n",
       "      <th>9</th>\n",
       "      <td>2015-12-01T00:00:00</td>\n",
       "      <td>191.182.199.16</td>\n",
       "      <td>GET</td>\n",
       "      <td>200.0</td>\n",
       "      <td>/media/system/js/caption.js</td>\n",
       "    </tr>\n",
       "  </tbody>\n",
       "</table>\n",
       "</div>"
      ],
      "text/plain": [
       "                  Date               IP Request  Status  \\\n",
       "0  2015-12-01T00:00:00    90.154.66.233    POST   200.0   \n",
       "1  2015-12-01T00:00:00    46.72.213.133     GET   200.0   \n",
       "2  2015-12-01T00:00:00  178.204.119.130    POST   200.0   \n",
       "3  2015-12-01T00:00:00      178.35.0.41    POST   200.0   \n",
       "4  2015-12-01T00:00:00    92.252.165.97     GET   200.0   \n",
       "5  2015-12-01T00:00:00    92.252.165.97    POST   200.0   \n",
       "6  2015-12-01T00:00:00   83.219.151.232     GET   200.0   \n",
       "7  2015-12-01T00:00:00    213.24.134.32    POST   200.0   \n",
       "8  2015-12-01T00:00:00   191.182.199.16     GET   200.0   \n",
       "9  2015-12-01T00:00:00   191.182.199.16     GET   200.0   \n",
       "\n",
       "                           Url  \n",
       "0     /administrator/index.php  \n",
       "1              /administrator/  \n",
       "2     /administrator/index.php  \n",
       "3     /administrator/index.php  \n",
       "4              /administrator/  \n",
       "5     /administrator/index.php  \n",
       "6              /administrator/  \n",
       "7     /administrator/index.php  \n",
       "8                            /  \n",
       "9  /media/system/js/caption.js  "
      ]
     },
     "execution_count": 8,
     "metadata": {},
     "output_type": "execute_result"
    }
   ],
   "source": [
    "logs_dataframe.head(10)"
   ]
  },
  {
   "cell_type": "markdown",
   "metadata": {
    "collapsed": true
   },
   "source": [
    "On désire maintenant avoir le compte de chaque type de requête (GET, POST etc) <br>\n",
    "Voilà le code qui nous permet de le faire, incluant un filtrage par colonne du DataFrame pour garder que la colonne  qui nous intéressé <b> Request </b>; puis un <b> groupby </b> sur cette colonne et l'agrégation qu'on va utiliser à savoir <b> count </b>"
   ]
  },
  {
   "cell_type": "code",
   "execution_count": 9,
   "metadata": {},
   "outputs": [],
   "source": [
    "requests_types = logs_dataframe[[\"Request\"]].groupby([\"Request\"])[\"Request\"].count()"
   ]
  },
  {
   "cell_type": "markdown",
   "metadata": {
    "collapsed": true
   },
   "source": [
    "On trie maintenant les résultats dans le sens décroissant (du type de requête apparaissant le plus souvent dans les Logs au moins souvent)"
   ]
  },
  {
   "cell_type": "code",
   "execution_count": 10,
   "metadata": {},
   "outputs": [],
   "source": [
    "requests_types = requests_types.sort_values(ascending=False)"
   ]
  },
  {
   "cell_type": "markdown",
   "metadata": {},
   "source": [
    "Voilà le compte de chaque type de requête... avec une prépondérance nette du type <b> GET </b> ce qui est normal dans des Logs d'accès..."
   ]
  },
  {
   "cell_type": "code",
   "execution_count": 11,
   "metadata": {},
   "outputs": [
    {
     "data": {
      "text/plain": [
       "Request\n",
       "GET     21685\n",
       "POST     4603\n",
       "HEAD       16\n",
       "PUT         6\n",
       "Head        1\n",
       "Name: Request, dtype: int64"
      ]
     },
     "execution_count": 11,
     "metadata": {},
     "output_type": "execute_result"
    }
   ],
   "source": [
    "requests_types"
   ]
  },
  {
   "cell_type": "markdown",
   "metadata": {
    "collapsed": true
   },
   "source": [
    "On voudrait maintenant afficher un camembert avec les pourcentages de présence de chaque type de requête. Pour ce, on fait appel à la librairie graphique <b> matplotlib </b> de Python en conjonction de la librairie <b> pandas </b>"
   ]
  },
  {
   "cell_type": "code",
   "execution_count": 12,
   "metadata": {},
   "outputs": [],
   "source": [
    "%matplotlib inline\n",
    "\n",
    "import matplotlib\n",
    "import numpy as np\n",
    "import matplotlib.pyplot as plt"
   ]
  },
  {
   "cell_type": "code",
   "execution_count": 13,
   "metadata": {},
   "outputs": [
    {
     "data": {
      "image/png": "[encoded data removed]",
      "text/plain": [
       "<Figure size 432x288 with 1 Axes>"
      ]
     },
     "metadata": {},
     "output_type": "display_data"
    }
   ],
   "source": [
    "labels = list(requests_types.index[:2])\n",
    "counts = list(requests_types[:2])\n",
    "plt.pie(counts, labels=labels,\n",
    "        autopct='%1.1f%%', shadow=True, startangle=140)\n",
    " \n",
    "plt.axis('equal')\n",
    "plt.show()"
   ]
  },
  {
   "cell_type": "markdown",
   "metadata": {
    "collapsed": true
   },
   "source": [
    "On désire maintenant observer ces comptes mois par mois... <br>\n",
    "On commence par rajouter une colonne <b> counts </b>  avec que des 1 au DataFrame d'origine contenant tous les Logs."
   ]
  },
  {
   "cell_type": "code",
   "execution_count": 14,
   "metadata": {},
   "outputs": [],
   "source": [
    "logs_dataframe = pd.concat([logs_dataframe, pd.DataFrame({'counts': [1]*len(logs_dataframe)})], axis=1)"
   ]
  },
  {
   "cell_type": "code",
   "execution_count": 15,
   "metadata": {},
   "outputs": [
    {
     "data": {
      "text/html": [
       "<div>\n",
       "<style scoped>\n",
       "    .dataframe tbody tr th:only-of-type {\n",
       "        vertical-align: middle;\n",
       "    }\n",
       "\n",
       "    .dataframe tbody tr th {\n",
       "        vertical-align: top;\n",
       "    }\n",
       "\n",
       "    .dataframe thead th {\n",
       "        text-align: right;\n",
       "    }\n",
       "</style>\n",
       "<table border=\"1\" class=\"dataframe\">\n",
       "  <thead>\n",
       "    <tr style=\"text-align: right;\">\n",
       "      <th></th>\n",
       "      <th>Date</th>\n",
       "      <th>IP</th>\n",
       "      <th>Request</th>\n",
       "      <th>Status</th>\n",
       "      <th>Url</th>\n",
       "      <th>counts</th>\n",
       "    </tr>\n",
       "  </thead>\n",
       "  <tbody>\n",
       "    <tr>\n",
       "      <th>0</th>\n",
       "      <td>2015-12-01T00:00:00</td>\n",
       "      <td>90.154.66.233</td>\n",
       "      <td>POST</td>\n",
       "      <td>200.0</td>\n",
       "      <td>/administrator/index.php</td>\n",
       "      <td>1</td>\n",
       "    </tr>\n",
       "    <tr>\n",
       "      <th>1</th>\n",
       "      <td>2015-12-01T00:00:00</td>\n",
       "      <td>46.72.213.133</td>\n",
       "      <td>GET</td>\n",
       "      <td>200.0</td>\n",
       "      <td>/administrator/</td>\n",
       "      <td>1</td>\n",
       "    </tr>\n",
       "    <tr>\n",
       "      <th>2</th>\n",
       "      <td>2015-12-01T00:00:00</td>\n",
       "      <td>178.204.119.130</td>\n",
       "      <td>POST</td>\n",
       "      <td>200.0</td>\n",
       "      <td>/administrator/index.php</td>\n",
       "      <td>1</td>\n",
       "    </tr>\n",
       "    <tr>\n",
       "      <th>3</th>\n",
       "      <td>2015-12-01T00:00:00</td>\n",
       "      <td>178.35.0.41</td>\n",
       "      <td>POST</td>\n",
       "      <td>200.0</td>\n",
       "      <td>/administrator/index.php</td>\n",
       "      <td>1</td>\n",
       "    </tr>\n",
       "    <tr>\n",
       "      <th>4</th>\n",
       "      <td>2015-12-01T00:00:00</td>\n",
       "      <td>92.252.165.97</td>\n",
       "      <td>GET</td>\n",
       "      <td>200.0</td>\n",
       "      <td>/administrator/</td>\n",
       "      <td>1</td>\n",
       "    </tr>\n",
       "  </tbody>\n",
       "</table>\n",
       "</div>"
      ],
      "text/plain": [
       "                  Date               IP Request  Status  \\\n",
       "0  2015-12-01T00:00:00    90.154.66.233    POST   200.0   \n",
       "1  2015-12-01T00:00:00    46.72.213.133     GET   200.0   \n",
       "2  2015-12-01T00:00:00  178.204.119.130    POST   200.0   \n",
       "3  2015-12-01T00:00:00      178.35.0.41    POST   200.0   \n",
       "4  2015-12-01T00:00:00    92.252.165.97     GET   200.0   \n",
       "\n",
       "                        Url  counts  \n",
       "0  /administrator/index.php       1  \n",
       "1           /administrator/       1  \n",
       "2  /administrator/index.php       1  \n",
       "3  /administrator/index.php       1  \n",
       "4           /administrator/       1  "
      ]
     },
     "execution_count": 15,
     "metadata": {},
     "output_type": "execute_result"
    }
   ],
   "source": [
    "logs_dataframe.head()"
   ]
  },
  {
   "cell_type": "markdown",
   "metadata": {
    "collapsed": true
   },
   "source": [
    "Comme avant, on filtre les colonnes dont on a besoin dans le DataFrame résultant... puis on effectue cette fois-ci un double <b> groupby </b> en commençant par la colonne <b> Date </b> où on va grouper les Logs mois par mois puis la colonne <b> Request </b> où on va, pour chaque mois, grouper les Logs par type de requête. La fonction d'agrégation est <b> sum </b> qui permet de sommer tous les 1 de la colonne restante à savoir <b> counts </b> pour chaque groupe."
   ]
  },
  {
   "cell_type": "code",
   "execution_count": 16,
   "metadata": {},
   "outputs": [],
   "source": [
    "requests_counts = logs_dataframe[[\"Date\", \"Request\", \"counts\"]].groupby([\"Date\", \"Request\"]).sum()"
   ]
  },
  {
   "cell_type": "code",
   "execution_count": 17,
   "metadata": {},
   "outputs": [],
   "source": [
    "df = requests_counts.reset_index()"
   ]
  },
  {
   "cell_type": "markdown",
   "metadata": {},
   "source": [
    "Pour pouvoir afficher un <b> stacked histogram </b> qui permet de visualiser le nombre de chaque type de requête par mois, on utilise tout d'abord la méthode <b> pivot() </b> du DataFrame qui permet de redistribuer les données selon de nouveaux axes pour avoir les dates ou mois en abscisse et les comptes des types de requêtes en ordonnées."
   ]
  },
  {
   "cell_type": "code",
   "execution_count": 18,
   "metadata": {},
   "outputs": [
    {
     "data": {
      "text/html": [
       "<div>\n",
       "<style scoped>\n",
       "    .dataframe tbody tr th:only-of-type {\n",
       "        vertical-align: middle;\n",
       "    }\n",
       "\n",
       "    .dataframe tbody tr th {\n",
       "        vertical-align: top;\n",
       "    }\n",
       "\n",
       "    .dataframe thead th {\n",
       "        text-align: right;\n",
       "    }\n",
       "</style>\n",
       "<table border=\"1\" class=\"dataframe\">\n",
       "  <thead>\n",
       "    <tr style=\"text-align: right;\">\n",
       "      <th>Request</th>\n",
       "      <th>GET</th>\n",
       "      <th>HEAD</th>\n",
       "      <th>Head</th>\n",
       "      <th>POST</th>\n",
       "      <th>PUT</th>\n",
       "    </tr>\n",
       "    <tr>\n",
       "      <th>Date</th>\n",
       "      <th></th>\n",
       "      <th></th>\n",
       "      <th></th>\n",
       "      <th></th>\n",
       "      <th></th>\n",
       "    </tr>\n",
       "  </thead>\n",
       "  <tbody>\n",
       "    <tr>\n",
       "      <th>2015-12-01T00:00:00</th>\n",
       "      <td>10172.0</td>\n",
       "      <td>9.0</td>\n",
       "      <td>1.0</td>\n",
       "      <td>3960.0</td>\n",
       "      <td>6.0</td>\n",
       "    </tr>\n",
       "    <tr>\n",
       "      <th>2016-01-01T00:00:00</th>\n",
       "      <td>11513.0</td>\n",
       "      <td>7.0</td>\n",
       "      <td>NaN</td>\n",
       "      <td>643.0</td>\n",
       "      <td>NaN</td>\n",
       "    </tr>\n",
       "  </tbody>\n",
       "</table>\n",
       "</div>"
      ],
      "text/plain": [
       "Request                  GET  HEAD  Head    POST  PUT\n",
       "Date                                                 \n",
       "2015-12-01T00:00:00  10172.0   9.0   1.0  3960.0  6.0\n",
       "2016-01-01T00:00:00  11513.0   7.0   NaN   643.0  NaN"
      ]
     },
     "execution_count": 18,
     "metadata": {},
     "output_type": "execute_result"
    }
   ],
   "source": [
    "pivot_df = df.pivot(index='Date', columns='Request', values='counts')\n",
    "pivot_df"
   ]
  },
  {
   "cell_type": "markdown",
   "metadata": {},
   "source": [
    "Ensuite, on utilise la méthode <b> bar() </b> qui a besoin de <b> matplotlib </b> pour fonctionner en lui passant entre autres un paramètre <b> stacked=True </b>"
   ]
  },
  {
   "cell_type": "code",
   "execution_count": 19,
   "metadata": {
    "scrolled": true
   },
   "outputs": [
    {
     "data": {
      "text/plain": [
       "<matplotlib.axes._subplots.AxesSubplot at 0x7f582e26da20>"
      ]
     },
     "execution_count": 19,
     "metadata": {},
     "output_type": "execute_result"
    },
    {
     "data": {
      "image/png": "[encoded data removed]",
      "text/plain": [
       "<Figure size 720x504 with 1 Axes>"
      ]
     },
     "metadata": {
      "needs_background": "light"
     },
     "output_type": "display_data"
    }
   ],
   "source": [
    "pivot_df.loc[:,['GET','POST']].plot.bar(stacked=True, figsize=(10,7))"
   ]
  }
 ],
 "metadata": {
  "kernelspec": {
   "display_name": "Python 3",
   "language": "python",
   "name": "python3"
  },
  "language_info": {
   "codemirror_mode": {
    "name": "ipython",
    "version": 3
   },
   "file_extension": ".py",
   "mimetype": "text/x-python",
   "name": "python",
   "nbconvert_exporter": "python",
   "pygments_lexer": "ipython3",
   "version": "3.7.1"
  }
 },
 "nbformat": 4,
 "nbformat_minor": 2
}
